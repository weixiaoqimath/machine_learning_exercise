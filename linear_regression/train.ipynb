{
 "cells": [
  {
   "cell_type": "code",
   "execution_count": 1,
   "id": "9607c513",
   "metadata": {},
   "outputs": [
    {
     "name": "stdout",
     "output_type": "stream",
     "text": [
      "Intel MKL WARNING: Support of Intel(R) Streaming SIMD Extensions 4.2 (Intel(R) SSE4.2) enabled only processors has been deprecated. Intel oneAPI Math Kernel Library 2025.0 will require Intel(R) Advanced Vector Extensions (Intel(R) AVX) instructions.\n",
      "Intel MKL WARNING: Support of Intel(R) Streaming SIMD Extensions 4.2 (Intel(R) SSE4.2) enabled only processors has been deprecated. Intel oneAPI Math Kernel Library 2025.0 will require Intel(R) Advanced Vector Extensions (Intel(R) AVX) instructions.\n"
     ]
    }
   ],
   "source": [
    "import numpy as np\n",
    "import pandas as pd"
   ]
  },
  {
   "cell_type": "code",
   "execution_count": 20,
   "id": "7318c45d",
   "metadata": {},
   "outputs": [],
   "source": [
    "class Normalizer():\n",
    "    def __init__(self):\n",
    "        self.mean = 0\n",
    "        self.std = 0\n",
    "\n",
    "    def fit(self, X):\n",
    "        self.mean = np.mean(X, axis=0) # mean of each column vector\n",
    "        self.std = np.std(X, axis=0) # std of each column vector\n",
    "        self.std[self.std <= 1e-5] = 1\n",
    "\n",
    "    def transform(self, X):\n",
    "        \"\"\"\n",
    "            feature normalization. Each row of X represents a point in R^d. \n",
    "            Substract by the mean of X and then divided by the std of X.\n",
    "        \"\"\"\n",
    "        return (X - self.mean)/self.std\n",
    "\n",
    "class LR():\n",
    "    def __init__(self, epoch = 50, lr = 0.1) -> None:\n",
    "        self.epoch = epoch\n",
    "        self.lr = lr\n",
    "\n",
    "    def fit(self, X, y):\n",
    "        X = np.concatenate([X, np.ones((X.shape[0], 1))], axis = 1)\n",
    "        self.w = np.zeros(X.shape[1])\n",
    "        self.loss = []\n",
    "        for epoch in range(self.epoch):\n",
    "            self.w -= self.lr/X.shape[0]*(np.dot(X.T, np.dot(X, self.w)-y))\n",
    "            loss = np.dot(np.dot(X, self.w)-y, np.dot(X, self.w)-y)/(2*X.shape[0])\n",
    "            if (epoch % 5) == 0:\n",
    "                print(loss)\n",
    "            self.loss.append(loss)\n",
    "    \n",
    "    def predict(self, X):\n",
    "        return np.dot(X, self.w)"
   ]
  },
  {
   "cell_type": "code",
   "execution_count": 3,
   "id": "7a19cefb",
   "metadata": {},
   "outputs": [
    {
     "name": "stdout",
     "output_type": "stream",
     "text": [
      "(1202, 5) (1202, 1) (301, 5) (301, 1)\n"
     ]
    }
   ],
   "source": [
    "# load data into dataframe\n",
    "Xtrain = pd.read_csv(\"airfoil_self_noise_X_train.csv\").values\n",
    "ytrain = pd.read_csv(\"airfoil_self_noise_y_train.csv\").values\n",
    "Xtest = pd.read_csv(\"airfoil_self_noise_X_test.csv\").values\n",
    "ytest = pd.read_csv(\"airfoil_self_noise_y_test.csv\").values\n",
    "\n",
    "print(Xtrain.shape, ytrain.shape, Xtest.shape, ytest.shape)\n",
    "# reshape y\n",
    "ytrain = ytrain.flatten() # or np.ravel()\n",
    "ytest = ytest.flatten()"
   ]
  },
  {
   "cell_type": "code",
   "execution_count": 22,
   "id": "3beb8222",
   "metadata": {},
   "outputs": [
    {
     "name": "stdout",
     "output_type": "stream",
     "text": [
      "6341.865180006292\n",
      "2220.460738933944\n",
      "782.6537689839838\n",
      "280.9303935633394\n",
      "105.78815914234634\n",
      "44.612680312247235\n",
      "23.22297160257671\n",
      "15.730372872745823\n",
      "13.096399139759964\n",
      "12.163642396807603\n",
      "11.828170703335834\n",
      "11.703487555410996\n",
      "11.653971661165931\n",
      "11.631844444312257\n",
      "11.620148193820663\n",
      "11.612775393894704\n",
      "11.60746040499026\n",
      "11.603312447748419\n",
      "11.599942879848268\n",
      "11.597153869669178\n"
     ]
    }
   ],
   "source": [
    "lr = LR(epoch = 100)\n",
    "normalizer = Normalizer()\n",
    "normalizer.fit(Xtrain)\n",
    "Xtrain_ = normalizer.transform(Xtrain)\n",
    "lr.fit(Xtrain_, ytrain)"
   ]
  }
 ],
 "metadata": {
  "interpreter": {
   "hash": "7b83bad6c4b5a78a13893782ab5f14b2b670f5dde44611c21ac35ec8ddfbed47"
  },
  "kernelspec": {
   "display_name": "Python 3.8.12 ('py38')",
   "language": "python",
   "name": "python3"
  },
  "language_info": {
   "codemirror_mode": {
    "name": "ipython",
    "version": 3
   },
   "file_extension": ".py",
   "mimetype": "text/x-python",
   "name": "python",
   "nbconvert_exporter": "python",
   "pygments_lexer": "ipython3",
   "version": "3.9.18"
  }
 },
 "nbformat": 4,
 "nbformat_minor": 5
}
